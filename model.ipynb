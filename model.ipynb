{
 "cells": [
  {
   "cell_type": "code",
   "execution_count": 52,
   "metadata": {},
   "outputs": [],
   "source": [
    "import pandas as pd, matplotlib.pyplot as plt\n",
    "from sklearn.model_selection import train_test_split\n",
    "from sklearn.linear_model import LinearRegression\n",
    "from sklearn import metrics"
   ]
  },
  {
   "cell_type": "code",
   "execution_count": 53,
   "metadata": {},
   "outputs": [],
   "source": [
    "df = pd.read_csv('data/df.csv')"
   ]
  },
  {
   "cell_type": "code",
   "execution_count": 54,
   "metadata": {},
   "outputs": [
    {
     "data": {
      "text/html": [
       "<div>\n",
       "<style scoped>\n",
       "    .dataframe tbody tr th:only-of-type {\n",
       "        vertical-align: middle;\n",
       "    }\n",
       "\n",
       "    .dataframe tbody tr th {\n",
       "        vertical-align: top;\n",
       "    }\n",
       "\n",
       "    .dataframe thead th {\n",
       "        text-align: right;\n",
       "    }\n",
       "</style>\n",
       "<table border=\"1\" class=\"dataframe\">\n",
       "  <thead>\n",
       "    <tr style=\"text-align: right;\">\n",
       "      <th></th>\n",
       "      <th>posted</th>\n",
       "      <th>miles</th>\n",
       "      <th>origin</th>\n",
       "      <th>dest</th>\n",
       "      <th>weight</th>\n",
       "      <th>shipper</th>\n",
       "      <th>time</th>\n",
       "    </tr>\n",
       "  </thead>\n",
       "  <tbody>\n",
       "    <tr>\n",
       "      <th>0</th>\n",
       "      <td>10:06</td>\n",
       "      <td>1,440</td>\n",
       "      <td>Los Angeles,CA</td>\n",
       "      <td>Dallas,TX</td>\n",
       "      <td>25,000</td>\n",
       "      <td>Total Quality Logistics Inc, Milford, OH</td>\n",
       "      <td>70</td>\n",
       "    </tr>\n",
       "    <tr>\n",
       "      <th>1</th>\n",
       "      <td>11:04</td>\n",
       "      <td>1,423</td>\n",
       "      <td>City Of Indus,CA</td>\n",
       "      <td>Dallas,TX</td>\n",
       "      <td>43,900</td>\n",
       "      <td>Fremont Contract Carriers, Fremont, NE</td>\n",
       "      <td>80</td>\n",
       "    </tr>\n",
       "    <tr>\n",
       "      <th>2</th>\n",
       "      <td>11:08</td>\n",
       "      <td>1,357</td>\n",
       "      <td>Vista,CA</td>\n",
       "      <td>Ft Worth,TX</td>\n",
       "      <td>25,000</td>\n",
       "      <td>Landstar Ranger Inc, San Antonio, TX</td>\n",
       "      <td>90</td>\n",
       "    </tr>\n",
       "    <tr>\n",
       "      <th>3</th>\n",
       "      <td>11:09</td>\n",
       "      <td>1,462</td>\n",
       "      <td>Shafter,CA</td>\n",
       "      <td>Grand Prairie,TX</td>\n",
       "      <td>45,000</td>\n",
       "      <td>Uber Freight Llc, Chicago, IL</td>\n",
       "      <td>110</td>\n",
       "    </tr>\n",
       "    <tr>\n",
       "      <th>4</th>\n",
       "      <td>11:33</td>\n",
       "      <td>1,380</td>\n",
       "      <td>San Diego,CA</td>\n",
       "      <td>Allen,TX</td>\n",
       "      <td>40,000</td>\n",
       "      <td>CH Robinson Company, Overland Park, KS</td>\n",
       "      <td>120</td>\n",
       "    </tr>\n",
       "    <tr>\n",
       "      <th>5</th>\n",
       "      <td>11:35</td>\n",
       "      <td>1,406</td>\n",
       "      <td>City Of Indus,CA</td>\n",
       "      <td>Roanoke,TX</td>\n",
       "      <td>10,000</td>\n",
       "      <td>Arnold Transportation Services Inc, Grand Prai...</td>\n",
       "      <td>130</td>\n",
       "    </tr>\n",
       "    <tr>\n",
       "      <th>6</th>\n",
       "      <td>11:48</td>\n",
       "      <td>1,362</td>\n",
       "      <td>San Diego,CA</td>\n",
       "      <td>Dallas,TX</td>\n",
       "      <td>14,000</td>\n",
       "      <td>Tristar Transit Inc, Sylmar, CA</td>\n",
       "      <td>140</td>\n",
       "    </tr>\n",
       "    <tr>\n",
       "      <th>7</th>\n",
       "      <td>13:39</td>\n",
       "      <td>1,419</td>\n",
       "      <td>Vernon,CA</td>\n",
       "      <td>Hurst,TX</td>\n",
       "      <td>20,000</td>\n",
       "      <td>All State Association Inc, San Fernando, CA</td>\n",
       "      <td>150</td>\n",
       "    </tr>\n",
       "    <tr>\n",
       "      <th>8</th>\n",
       "      <td>13:41</td>\n",
       "      <td>1,435</td>\n",
       "      <td>Santa Fe Spgs,CA</td>\n",
       "      <td>Dallas,TX</td>\n",
       "      <td>16,000</td>\n",
       "      <td>Total Quality Logistics Inc, Milford, OH</td>\n",
       "      <td>60</td>\n",
       "    </tr>\n",
       "    <tr>\n",
       "      <th>9</th>\n",
       "      <td>13:45</td>\n",
       "      <td>1,428</td>\n",
       "      <td>Buena Park,CA</td>\n",
       "      <td>Dallas,TX</td>\n",
       "      <td>9,200</td>\n",
       "      <td>Sure Shot Logistics, Huntington Woods, MI</td>\n",
       "      <td>130</td>\n",
       "    </tr>\n",
       "    <tr>\n",
       "      <th>10</th>\n",
       "      <td>14:01</td>\n",
       "      <td>1,438</td>\n",
       "      <td>Carson,CA</td>\n",
       "      <td>Irving,TX</td>\n",
       "      <td>30,000</td>\n",
       "      <td>Landstar Ranger Inc, Tampa, FL</td>\n",
       "      <td>70</td>\n",
       "    </tr>\n",
       "    <tr>\n",
       "      <th>11</th>\n",
       "      <td>14:04</td>\n",
       "      <td>1,423</td>\n",
       "      <td>City Of Indus,CA</td>\n",
       "      <td>Dallas,TX</td>\n",
       "      <td>41,800</td>\n",
       "      <td>R2 Logistics Inc, Dallas, TX</td>\n",
       "      <td>120</td>\n",
       "    </tr>\n",
       "    <tr>\n",
       "      <th>12</th>\n",
       "      <td>14:09</td>\n",
       "      <td>1,417</td>\n",
       "      <td>Fullerton,CA</td>\n",
       "      <td>Coppell,TX</td>\n",
       "      <td>40,000</td>\n",
       "      <td>Veritiv Operating Company, Norcross, GA</td>\n",
       "      <td>74</td>\n",
       "    </tr>\n",
       "    <tr>\n",
       "      <th>13</th>\n",
       "      <td>14:10</td>\n",
       "      <td>1,328</td>\n",
       "      <td>San Diego,CA</td>\n",
       "      <td>Ft Worth,TX</td>\n",
       "      <td>45,000</td>\n",
       "      <td>Coyote Logistics Llc, Alpharetta, GA</td>\n",
       "      <td>78</td>\n",
       "    </tr>\n",
       "    <tr>\n",
       "      <th>14</th>\n",
       "      <td>14:17</td>\n",
       "      <td>1,364</td>\n",
       "      <td>Mira Loma,CA</td>\n",
       "      <td>Ft Worth,TX</td>\n",
       "      <td>42,100</td>\n",
       "      <td>Arcbest Dedicated/Logistics &amp; Distribution, Sp...</td>\n",
       "      <td>130</td>\n",
       "    </tr>\n",
       "    <tr>\n",
       "      <th>15</th>\n",
       "      <td>15:51</td>\n",
       "      <td>1,316</td>\n",
       "      <td>Vernon,CA</td>\n",
       "      <td>Humble,TX</td>\n",
       "      <td>40,000</td>\n",
       "      <td>Allen Lund Company, La Canada, CA</td>\n",
       "      <td>40</td>\n",
       "    </tr>\n",
       "    <tr>\n",
       "      <th>16</th>\n",
       "      <td>16:00</td>\n",
       "      <td>1,382</td>\n",
       "      <td>Moreno Valley,CA</td>\n",
       "      <td>Dallas,TX</td>\n",
       "      <td>40,000</td>\n",
       "      <td>Western Express Inc, Nashville, TN</td>\n",
       "      <td>30</td>\n",
       "    </tr>\n",
       "    <tr>\n",
       "      <th>17</th>\n",
       "      <td>17:51</td>\n",
       "      <td>1,423</td>\n",
       "      <td>City of Indus,CA</td>\n",
       "      <td>Dallas,TX</td>\n",
       "      <td>26,000</td>\n",
       "      <td>Freight Runner Inc, Chino, CA</td>\n",
       "      <td>40</td>\n",
       "    </tr>\n",
       "  </tbody>\n",
       "</table>\n",
       "</div>"
      ],
      "text/plain": [
       "   posted  miles            origin              dest  weight  \\\n",
       "0   10:06  1,440    Los Angeles,CA         Dallas,TX  25,000   \n",
       "1   11:04  1,423  City Of Indus,CA         Dallas,TX  43,900   \n",
       "2   11:08  1,357          Vista,CA       Ft Worth,TX  25,000   \n",
       "3   11:09  1,462        Shafter,CA  Grand Prairie,TX  45,000   \n",
       "4   11:33  1,380      San Diego,CA          Allen,TX  40,000   \n",
       "5   11:35  1,406  City Of Indus,CA        Roanoke,TX  10,000   \n",
       "6   11:48  1,362      San Diego,CA         Dallas,TX  14,000   \n",
       "7   13:39  1,419         Vernon,CA          Hurst,TX  20,000   \n",
       "8   13:41  1,435  Santa Fe Spgs,CA         Dallas,TX  16,000   \n",
       "9   13:45  1,428     Buena Park,CA         Dallas,TX   9,200   \n",
       "10  14:01  1,438         Carson,CA         Irving,TX  30,000   \n",
       "11  14:04  1,423  City Of Indus,CA         Dallas,TX  41,800   \n",
       "12  14:09  1,417      Fullerton,CA        Coppell,TX  40,000   \n",
       "13  14:10  1,328      San Diego,CA       Ft Worth,TX  45,000   \n",
       "14  14:17  1,364      Mira Loma,CA       Ft Worth,TX  42,100   \n",
       "15  15:51  1,316         Vernon,CA         Humble,TX  40,000   \n",
       "16  16:00  1,382  Moreno Valley,CA         Dallas,TX  40,000   \n",
       "17  17:51  1,423  City of Indus,CA         Dallas,TX  26,000   \n",
       "\n",
       "                                              shipper  time  \n",
       "0            Total Quality Logistics Inc, Milford, OH    70  \n",
       "1              Fremont Contract Carriers, Fremont, NE    80  \n",
       "2                Landstar Ranger Inc, San Antonio, TX    90  \n",
       "3                       Uber Freight Llc, Chicago, IL   110  \n",
       "4              CH Robinson Company, Overland Park, KS   120  \n",
       "5   Arnold Transportation Services Inc, Grand Prai...   130  \n",
       "6                     Tristar Transit Inc, Sylmar, CA   140  \n",
       "7         All State Association Inc, San Fernando, CA   150  \n",
       "8            Total Quality Logistics Inc, Milford, OH    60  \n",
       "9           Sure Shot Logistics, Huntington Woods, MI   130  \n",
       "10                     Landstar Ranger Inc, Tampa, FL    70  \n",
       "11                       R2 Logistics Inc, Dallas, TX   120  \n",
       "12            Veritiv Operating Company, Norcross, GA    74  \n",
       "13               Coyote Logistics Llc, Alpharetta, GA    78  \n",
       "14  Arcbest Dedicated/Logistics & Distribution, Sp...   130  \n",
       "15                  Allen Lund Company, La Canada, CA    40  \n",
       "16                 Western Express Inc, Nashville, TN    30  \n",
       "17                      Freight Runner Inc, Chino, CA    40  "
      ]
     },
     "execution_count": 54,
     "metadata": {},
     "output_type": "execute_result"
    }
   ],
   "source": [
    "df"
   ]
  },
  {
   "cell_type": "code",
   "execution_count": 11,
   "metadata": {},
   "outputs": [
    {
     "data": {
      "image/png": "[encoded data removed]",
      "text/plain": [
       "<Figure size 864x720 with 1 Axes>"
      ]
     },
     "metadata": {
      "needs_background": "light"
     },
     "output_type": "display_data"
    }
   ],
   "source": [
    "plt.figure(figsize=(12,10))\n",
    "plt.plot(df['posted'], df['time'])\n",
    "plt.xlabel('posted time')\n",
    "plt.ylabel('time minutes to fill load');"
   ]
  },
  {
   "cell_type": "code",
   "execution_count": 13,
   "metadata": {},
   "outputs": [
    {
     "data": {
      "image/png": "[encoded data removed]",
      "text/plain": [
       "<Figure size 864x720 with 1 Axes>"
      ]
     },
     "metadata": {
      "needs_background": "light"
     },
     "output_type": "display_data"
    }
   ],
   "source": [
    "plt.figure(figsize=(12,10))\n",
    "plt.xlabel('posted time')\n",
    "plt.ylabel('time minutes to fill load')\n",
    "plt.plot(df['posted'], df['time'], 'o');"
   ]
  },
  {
   "cell_type": "code",
   "execution_count": 55,
   "metadata": {},
   "outputs": [],
   "source": [
    "def fraction(row):\n",
    "    x = row['posted']\n",
    "    hr = float(x[0:2])\n",
    "    mi = float(x[3:5])\n",
    "    return hr + mi/60"
   ]
  },
  {
   "cell_type": "code",
   "execution_count": 56,
   "metadata": {},
   "outputs": [],
   "source": [
    "df['posted'] = df.apply(fraction, axis=1)"
   ]
  },
  {
   "cell_type": "code",
   "execution_count": 57,
   "metadata": {},
   "outputs": [
    {
     "data": {
      "text/html": [
       "<div>\n",
       "<style scoped>\n",
       "    .dataframe tbody tr th:only-of-type {\n",
       "        vertical-align: middle;\n",
       "    }\n",
       "\n",
       "    .dataframe tbody tr th {\n",
       "        vertical-align: top;\n",
       "    }\n",
       "\n",
       "    .dataframe thead th {\n",
       "        text-align: right;\n",
       "    }\n",
       "</style>\n",
       "<table border=\"1\" class=\"dataframe\">\n",
       "  <thead>\n",
       "    <tr style=\"text-align: right;\">\n",
       "      <th></th>\n",
       "      <th>posted</th>\n",
       "      <th>miles</th>\n",
       "      <th>origin</th>\n",
       "      <th>dest</th>\n",
       "      <th>weight</th>\n",
       "      <th>shipper</th>\n",
       "      <th>time</th>\n",
       "    </tr>\n",
       "  </thead>\n",
       "  <tbody>\n",
       "    <tr>\n",
       "      <th>0</th>\n",
       "      <td>10.100000</td>\n",
       "      <td>1440</td>\n",
       "      <td>Los Angeles,CA</td>\n",
       "      <td>Dallas,TX</td>\n",
       "      <td>25000</td>\n",
       "      <td>Total Quality Logistics Inc, Milford, OH</td>\n",
       "      <td>70</td>\n",
       "    </tr>\n",
       "    <tr>\n",
       "      <th>1</th>\n",
       "      <td>11.066667</td>\n",
       "      <td>1423</td>\n",
       "      <td>City Of Indus,CA</td>\n",
       "      <td>Dallas,TX</td>\n",
       "      <td>43900</td>\n",
       "      <td>Fremont Contract Carriers, Fremont, NE</td>\n",
       "      <td>80</td>\n",
       "    </tr>\n",
       "    <tr>\n",
       "      <th>2</th>\n",
       "      <td>11.133333</td>\n",
       "      <td>1357</td>\n",
       "      <td>Vista,CA</td>\n",
       "      <td>Ft Worth,TX</td>\n",
       "      <td>25000</td>\n",
       "      <td>Landstar Ranger Inc, San Antonio, TX</td>\n",
       "      <td>90</td>\n",
       "    </tr>\n",
       "    <tr>\n",
       "      <th>3</th>\n",
       "      <td>11.150000</td>\n",
       "      <td>1462</td>\n",
       "      <td>Shafter,CA</td>\n",
       "      <td>Grand Prairie,TX</td>\n",
       "      <td>45000</td>\n",
       "      <td>Uber Freight Llc, Chicago, IL</td>\n",
       "      <td>110</td>\n",
       "    </tr>\n",
       "    <tr>\n",
       "      <th>4</th>\n",
       "      <td>11.550000</td>\n",
       "      <td>1380</td>\n",
       "      <td>San Diego,CA</td>\n",
       "      <td>Allen,TX</td>\n",
       "      <td>40000</td>\n",
       "      <td>CH Robinson Company, Overland Park, KS</td>\n",
       "      <td>120</td>\n",
       "    </tr>\n",
       "  </tbody>\n",
       "</table>\n",
       "</div>"
      ],
      "text/plain": [
       "      posted  miles            origin              dest  weight  \\\n",
       "0  10.100000   1440    Los Angeles,CA         Dallas,TX   25000   \n",
       "1  11.066667   1423  City Of Indus,CA         Dallas,TX   43900   \n",
       "2  11.133333   1357          Vista,CA       Ft Worth,TX   25000   \n",
       "3  11.150000   1462        Shafter,CA  Grand Prairie,TX   45000   \n",
       "4  11.550000   1380      San Diego,CA          Allen,TX   40000   \n",
       "\n",
       "                                    shipper  time  \n",
       "0  Total Quality Logistics Inc, Milford, OH    70  \n",
       "1    Fremont Contract Carriers, Fremont, NE    80  \n",
       "2      Landstar Ranger Inc, San Antonio, TX    90  \n",
       "3             Uber Freight Llc, Chicago, IL   110  \n",
       "4    CH Robinson Company, Overland Park, KS   120  "
      ]
     },
     "execution_count": 57,
     "metadata": {},
     "output_type": "execute_result"
    }
   ],
   "source": [
    "df['miles'] = df['miles'].str.replace(',', '').astype(int)\n",
    "df['weight'] = df['weight'].str.replace(',', '').astype(int)\n",
    "df.head()"
   ]
  },
  {
   "cell_type": "code",
   "execution_count": null,
   "metadata": {},
   "outputs": [],
   "source": []
  },
  {
   "cell_type": "code",
   "execution_count": null,
   "metadata": {},
   "outputs": [],
   "source": []
  },
  {
   "cell_type": "code",
   "execution_count": null,
   "metadata": {},
   "outputs": [],
   "source": []
  },
  {
   "cell_type": "code",
   "execution_count": 40,
   "metadata": {
    "scrolled": true
   },
   "outputs": [
    {
     "data": {
      "text/html": [
       "<div>\n",
       "<style scoped>\n",
       "    .dataframe tbody tr th:only-of-type {\n",
       "        vertical-align: middle;\n",
       "    }\n",
       "\n",
       "    .dataframe tbody tr th {\n",
       "        vertical-align: top;\n",
       "    }\n",
       "\n",
       "    .dataframe thead th {\n",
       "        text-align: right;\n",
       "    }\n",
       "</style>\n",
       "<table border=\"1\" class=\"dataframe\">\n",
       "  <thead>\n",
       "    <tr style=\"text-align: right;\">\n",
       "      <th></th>\n",
       "      <th>posted</th>\n",
       "      <th>miles</th>\n",
       "      <th>origin</th>\n",
       "      <th>dest</th>\n",
       "      <th>weight</th>\n",
       "      <th>shipper</th>\n",
       "      <th>time</th>\n",
       "    </tr>\n",
       "  </thead>\n",
       "  <tbody>\n",
       "    <tr>\n",
       "      <th>0</th>\n",
       "      <td>10.100000</td>\n",
       "      <td>1,440</td>\n",
       "      <td>Los Angeles,CA</td>\n",
       "      <td>Dallas,TX</td>\n",
       "      <td>25,000</td>\n",
       "      <td>Total Quality Logistics Inc, Milford, OH</td>\n",
       "      <td>70</td>\n",
       "    </tr>\n",
       "    <tr>\n",
       "      <th>1</th>\n",
       "      <td>11.066667</td>\n",
       "      <td>1,423</td>\n",
       "      <td>City Of Indus,CA</td>\n",
       "      <td>Dallas,TX</td>\n",
       "      <td>43,900</td>\n",
       "      <td>Fremont Contract Carriers, Fremont, NE</td>\n",
       "      <td>80</td>\n",
       "    </tr>\n",
       "    <tr>\n",
       "      <th>2</th>\n",
       "      <td>11.133333</td>\n",
       "      <td>1,357</td>\n",
       "      <td>Vista,CA</td>\n",
       "      <td>Ft Worth,TX</td>\n",
       "      <td>25,000</td>\n",
       "      <td>Landstar Ranger Inc, San Antonio, TX</td>\n",
       "      <td>90</td>\n",
       "    </tr>\n",
       "    <tr>\n",
       "      <th>3</th>\n",
       "      <td>11.150000</td>\n",
       "      <td>1,462</td>\n",
       "      <td>Shafter,CA</td>\n",
       "      <td>Grand Prairie,TX</td>\n",
       "      <td>45,000</td>\n",
       "      <td>Uber Freight Llc, Chicago, IL</td>\n",
       "      <td>110</td>\n",
       "    </tr>\n",
       "    <tr>\n",
       "      <th>4</th>\n",
       "      <td>11.550000</td>\n",
       "      <td>1,380</td>\n",
       "      <td>San Diego,CA</td>\n",
       "      <td>Allen,TX</td>\n",
       "      <td>—</td>\n",
       "      <td>CH Robinson Company, Overland Park, KS</td>\n",
       "      <td>120</td>\n",
       "    </tr>\n",
       "  </tbody>\n",
       "</table>\n",
       "</div>"
      ],
      "text/plain": [
       "      posted  miles            origin              dest  weight  \\\n",
       "0  10.100000  1,440    Los Angeles,CA         Dallas,TX  25,000   \n",
       "1  11.066667  1,423  City Of Indus,CA         Dallas,TX  43,900   \n",
       "2  11.133333  1,357          Vista,CA       Ft Worth,TX  25,000   \n",
       "3  11.150000  1,462        Shafter,CA  Grand Prairie,TX  45,000   \n",
       "4  11.550000  1,380      San Diego,CA          Allen,TX       —   \n",
       "\n",
       "                                    shipper  time  \n",
       "0  Total Quality Logistics Inc, Milford, OH    70  \n",
       "1    Fremont Contract Carriers, Fremont, NE    80  \n",
       "2      Landstar Ranger Inc, San Antonio, TX    90  \n",
       "3             Uber Freight Llc, Chicago, IL   110  \n",
       "4    CH Robinson Company, Overland Park, KS   120  "
      ]
     },
     "execution_count": 40,
     "metadata": {},
     "output_type": "execute_result"
    }
   ],
   "source": [
    "df.head()"
   ]
  },
  {
   "cell_type": "code",
   "execution_count": 58,
   "metadata": {},
   "outputs": [
    {
     "data": {
      "text/plain": [
       "0.41920539237699617"
      ]
     },
     "execution_count": 58,
     "metadata": {},
     "output_type": "execute_result"
    }
   ],
   "source": [
    "X = df[['posted', 'miles', 'weight']]\n",
    "y = df['time']\n",
    "Xtrain, Xtest, ytrain, ytest = train_test_split(X, y)\n",
    "lr = LinearRegression()\n",
    "lr.fit(Xtrain, ytrain)\n",
    "pred = lr.predict(Xtest)\n",
    "lr.score(Xtrain, ytrain)"
   ]
  },
  {
   "cell_type": "code",
   "execution_count": 59,
   "metadata": {},
   "outputs": [
    {
     "data": {
      "text/plain": [
       "-0.4472328247416919"
      ]
     },
     "execution_count": 59,
     "metadata": {},
     "output_type": "execute_result"
    }
   ],
   "source": [
    "lr.score(Xtest, ytest)"
   ]
  },
  {
   "cell_type": "code",
   "execution_count": 46,
   "metadata": {},
   "outputs": [
    {
     "data": {
      "image/png": "[encoded data removed]",
      "text/plain": [
       "<Figure size 864x720 with 1 Axes>"
      ]
     },
     "metadata": {
      "needs_background": "light"
     },
     "output_type": "display_data"
    }
   ],
   "source": [
    "plt.figure(figsize=(12,10))\n",
    "plt.xlabel('posted time')\n",
    "plt.ylabel('time minutes to fill load')\n",
    "plt.scatter(Xtrain, ytrain)\n",
    "plt.plot(Xtrain, lr.predict(Xtrain));"
   ]
  },
  {
   "cell_type": "code",
   "execution_count": null,
   "metadata": {},
   "outputs": [],
   "source": []
  }
 ],
 "metadata": {
  "kernelspec": {
   "display_name": "Python 3",
   "language": "python",
   "name": "python3"
  },
  "language_info": {
   "codemirror_mode": {
    "name": "ipython",
    "version": 3
   },
   "file_extension": ".py",
   "mimetype": "text/x-python",
   "name": "python",
   "nbconvert_exporter": "python",
   "pygments_lexer": "ipython3",
   "version": "3.7.3"
  }
 },
 "nbformat": 4,
 "nbformat_minor": 2
}
